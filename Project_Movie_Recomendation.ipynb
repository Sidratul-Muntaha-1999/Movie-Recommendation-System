{
  "nbformat": 4,
  "nbformat_minor": 0,
  "metadata": {
    "colab": {
      "provenance": []
    },
    "kernelspec": {
      "name": "python3",
      "display_name": "Python 3"
    },
    "language_info": {
      "name": "python"
    }
  },
  "cells": [
    {
      "cell_type": "code",
      "execution_count": 26,
      "metadata": {
        "colab": {
          "base_uri": "https://localhost:8080/"
        },
        "id": "T30HqnwGcGuq",
        "outputId": "4be0745e-f3f4-481a-c6ed-a4c5c43fed8d"
      },
      "outputs": [
        {
          "output_type": "stream",
          "name": "stdout",
          "text": [
            "CSV file 'movies_data.csv' created successfully.\n"
          ]
        }
      ],
      "source": [
        "import pandas as pd\n",
        "\n",
        "# Sample movie data\n",
        "movie_data = {\n",
        "    'Movie id': [1, 2, 3, 4, 5, 6, 7, 8, 9, 10],\n",
        "    'Title': [\n",
        "        'Inception', 'The Dark Knight', 'Titanic', 'The Matrix', 'The Shawshank Redemption',\n",
        "        'Pulp Fiction', 'Forrest Gump', 'Gladiator', 'Interstellar', 'The Godfather'\n",
        "    ],\n",
        "    'Genre': [\n",
        "        'Sci-Fi, Thriller', 'Action, Crime', 'Drama, Romance', 'Sci-Fi, Action', 'Drama',\n",
        "        'Crime, Drama', 'Drama, Romance', 'Action, Drama', 'Sci-Fi, Drama', 'Crime, Drama'\n",
        "    ],\n",
        "    'Release Year': [\n",
        "        2010, 2008, 1997, 1999, 1994,\n",
        "        1994, 1994, 2000, 2014, 1972\n",
        "    ],\n",
        "    'Rating': [\n",
        "        8.8, 9.0, 7.8, 8.7, 9.3,\n",
        "        8.9, 8.8, 8.5, 8.6, 9.2\n",
        "    ],\n",
        "    'Number of Votes': [\n",
        "        2100000, 2300000, 1800000, 1600000, 2300000,\n",
        "        1800000, 1700000, 1900000, 2500000, 3000000\n",
        "    ],\n",
        "    'Duration': [\n",
        "        148, 152, 195, 136, 142,\n",
        "        154, 142, 155, 169, 175\n",
        "    ],\n",
        "    'Director': [\n",
        "        'Christopher Nolan', 'Christopher Nolan', 'James Cameron', 'The Wachowskis', 'Frank Darabont',\n",
        "        'Quentin Tarantino', 'Robert Zemeckis', 'Ridley Scott', 'Christopher Nolan', 'Francis Ford Coppola'\n",
        "    ],\n",
        "     'Description': [\n",
        "        'A thief who steals corporate secrets through the use of dream-sharing technology.',\n",
        "        'A vigilante crime fighter faces off against a criminal mastermind known as the Joker.',\n",
        "        'A seventeen-year-old aristocrat falls in love with a kind but poor artist.',\n",
        "        'A computer hacker learns from mysterious rebels about the true nature of his reality.',\n",
        "        'Two imprisoned men bond over a number of years, finding solace and eventual redemption through acts of common decency.',\n",
        "        'The lives of two mob hitmen, a boxer, a gangster’s wife, and a diner waitress intertwine in four tales of violence and redemption.',\n",
        "        'The presidencies of Kennedy and Johnson, the Vietnam War, the civil rights movement, and other historical events unfold from the perspective of an Alabama man with an extraordinary life.',\n",
        "        'A former Roman General sets out to exact vengeance against the corrupt emperor who murdered his family and sent him into slavery.',\n",
        "        'A team of explorers travel through a wormhole in space in an attempt to ensure humanity\\'s survival.',\n",
        "        'The aging patriarch of an organized crime dynasty transfers control of his clandestine empire to his reluctant son.'\n",
        "    ],\n",
        "    'User Rating': [None] * 10,  # No user ratings initially\n",
        "    'User Review': [None] * 10\n",
        "\n",
        "}\n",
        "\n",
        "# Create a DataFrame\n",
        "df = pd.DataFrame(movie_data)\n",
        "\n",
        "# Save the DataFrame to a CSV file\n",
        "csv_file_path = 'movies_data.csv'\n",
        "df.to_csv(csv_file_path, index=False)\n",
        "\n",
        "print(f\"CSV file '{csv_file_path}' created successfully.\")"
      ]
    },
    {
      "cell_type": "code",
      "source": [
        "print(movie_data)"
      ],
      "metadata": {
        "colab": {
          "base_uri": "https://localhost:8080/"
        },
        "id": "WNGuwnHve9Hf",
        "outputId": "bc9288f8-8196-49a8-b207-ea2595718691"
      },
      "execution_count": 27,
      "outputs": [
        {
          "output_type": "stream",
          "name": "stdout",
          "text": [
            "{'Movie id': [1, 2, 3, 4, 5, 6, 7, 8, 9, 10], 'Title': ['Inception', 'The Dark Knight', 'Titanic', 'The Matrix', 'The Shawshank Redemption', 'Pulp Fiction', 'Forrest Gump', 'Gladiator', 'Interstellar', 'The Godfather'], 'Genre': ['Sci-Fi, Thriller', 'Action, Crime', 'Drama, Romance', 'Sci-Fi, Action', 'Drama', 'Crime, Drama', 'Drama, Romance', 'Action, Drama', 'Sci-Fi, Drama', 'Crime, Drama'], 'Release Year': [2010, 2008, 1997, 1999, 1994, 1994, 1994, 2000, 2014, 1972], 'Rating': [8.8, 9.0, 7.8, 8.7, 9.3, 8.9, 8.8, 8.5, 8.6, 9.2], 'Number of Votes': [2100000, 2300000, 1800000, 1600000, 2300000, 1800000, 1700000, 1900000, 2500000, 3000000], 'Duration': [148, 152, 195, 136, 142, 154, 142, 155, 169, 175], 'Director': ['Christopher Nolan', 'Christopher Nolan', 'James Cameron', 'The Wachowskis', 'Frank Darabont', 'Quentin Tarantino', 'Robert Zemeckis', 'Ridley Scott', 'Christopher Nolan', 'Francis Ford Coppola'], 'Description': ['A thief who steals corporate secrets through the use of dream-sharing technology.', 'A vigilante crime fighter faces off against a criminal mastermind known as the Joker.', 'A seventeen-year-old aristocrat falls in love with a kind but poor artist.', 'A computer hacker learns from mysterious rebels about the true nature of his reality.', 'Two imprisoned men bond over a number of years, finding solace and eventual redemption through acts of common decency.', 'The lives of two mob hitmen, a boxer, a gangster’s wife, and a diner waitress intertwine in four tales of violence and redemption.', 'The presidencies of Kennedy and Johnson, the Vietnam War, the civil rights movement, and other historical events unfold from the perspective of an Alabama man with an extraordinary life.', 'A former Roman General sets out to exact vengeance against the corrupt emperor who murdered his family and sent him into slavery.', \"A team of explorers travel through a wormhole in space in an attempt to ensure humanity's survival.\", 'The aging patriarch of an organized crime dynasty transfers control of his clandestine empire to his reluctant son.'], 'User Rating': [None, None, None, None, None, None, None, None, None, None], 'User Review': [None, None, None, None, None, None, None, None, None, None]}\n"
          ]
        }
      ]
    },
    {
      "cell_type": "code",
      "source": [
        "def filter_by_genre(genre):\n",
        "    return df[df['Genre'].str.contains(genre, case=False)]\n",
        "\n",
        "# Filtering by Release Year\n",
        "def filter_by_year(year):\n",
        "    return df[df['Release Year'] == year]\n",
        "\n",
        "# Filtering by Director\n",
        "def filter_by_director(director):\n",
        "    return df[df['Director'].str.contains(director, case=False)]\n",
        "\n",
        "\n",
        "\n",
        "\n"
      ],
      "metadata": {
        "id": "TpYQVFq9fWhm"
      },
      "execution_count": 22,
      "outputs": []
    },
    {
      "cell_type": "code",
      "source": [
        "\n",
        "# Main function to take user input\n",
        "def movie_filter():\n",
        "    print(\"Welcome to the Movie Filter!\")\n",
        "    print(\"You can filter movies by Genre, Release Year, or Director.\")\n",
        "\n",
        "    # Taking user input for filter criteria\n",
        "    filter_criteria = input(\"Do you want to filter by Genre, Release Year, or Director? \").strip().lower()\n",
        "\n",
        "    if filter_criteria == 'genre':\n",
        "        genre = input(\"Enter the genre to filter by (e.g., Sci-Fi): \").strip()\n",
        "        filtered_movies = filter_by_genre(genre)\n",
        "    elif filter_criteria == 'release year':\n",
        "        try:\n",
        "            year = int(input(\"Enter the release year to filter by (e.g., 1994): \").strip())\n",
        "            filtered_movies = filter_by_year(year)\n",
        "        except ValueError:\n",
        "            print(\"Please enter a valid year.\")\n",
        "            return\n",
        "    elif filter_criteria == 'director':\n",
        "        director = input(\"Enter the director's name to filter by (e.g., Christopher Nolan): \").strip()\n",
        "        filtered_movies = filter_by_director(director)\n",
        "    else:\n",
        "        print(\"Invalid option. Please choose 'Genre', 'Release Year', or 'Director'.\")\n",
        "        return\n",
        "\n",
        "    # Display the filtered results\n",
        "    if not filtered_movies.empty:\n",
        "        print(\"\\nFiltered Movies:\")\n",
        "        print(filtered_movies[['Movie id', 'Title', 'Genre', 'Release Year', 'Rating', 'Director']])\n",
        "    else:\n",
        "        print(\"No movies found matching your criteria.\")\n",
        "\n",
        "movie_filter()\n"
      ],
      "metadata": {
        "colab": {
          "base_uri": "https://localhost:8080/"
        },
        "id": "HwUBPKjBkHhW",
        "outputId": "c09a2cfc-fa71-4b71-da9f-ecde671f7201"
      },
      "execution_count": 23,
      "outputs": [
        {
          "output_type": "stream",
          "name": "stdout",
          "text": [
            "Welcome to the Movie Filter!\n",
            "You can filter movies by Genre, Release Year, or Director.\n",
            "Do you want to filter by Genre, Release Year, or Director? Release Year\n",
            "Enter the release year to filter by (e.g., 1994): 1998\n",
            "No movies found matching your criteria.\n"
          ]
        }
      ]
    },
    {
      "cell_type": "code",
      "source": [
        "def search_movies(keyword):\n",
        "    keyword = keyword.lower()\n",
        "\n",
        "    # Search in Title, Genre, and Description\n",
        "    result = df[\n",
        "        df['Title'].str.contains(keyword, case=False) |\n",
        "        df['Genre'].str.contains(keyword, case=False) |\n",
        "        df['Description'].str.contains(keyword, case=False)\n",
        "    ]\n",
        "    return result\n",
        "\n",
        "def movie_search():\n",
        "    print(\"Welcome to the Movie Search!\")\n",
        "    keyword = input(\"Enter a keyword to search movies (in title, genre, or description): \").strip()\n",
        "\n",
        "    filtered_movies = search_movies(keyword)\n",
        "\n",
        "    if not filtered_movies.empty:\n",
        "        print(\"\\nSearch Results:\")\n",
        "        print(filtered_movies[['Movie id', 'Title', 'Genre', 'Release Year', 'Rating', 'Description']])\n",
        "    else:\n",
        "        print(\"No movies found .\")\n",
        "\n",
        "movie_search()"
      ],
      "metadata": {
        "colab": {
          "base_uri": "https://localhost:8080/"
        },
        "id": "KMP0cekKk5Vv",
        "outputId": "0d0d17a6-2cab-426c-e693-e61cf2091fea"
      },
      "execution_count": 25,
      "outputs": [
        {
          "output_type": "stream",
          "name": "stdout",
          "text": [
            "Welcome to the Movie Search!\n",
            "Enter a keyword to search movies (in title, genre, or description): Crime\n",
            "\n",
            "Search Results:\n",
            "   Movie id            Title          Genre  Release Year  Rating  \\\n",
            "1         2  The Dark Knight  Action, Crime          2008     9.0   \n",
            "5         6     Pulp Fiction   Crime, Drama          1994     8.9   \n",
            "9        10    The Godfather   Crime, Drama          1972     9.2   \n",
            "\n",
            "                                         Description  \n",
            "1  A vigilante crime fighter faces off against a ...  \n",
            "5  The lives of two mob hitmen, a boxer, a gangst...  \n",
            "9  The aging patriarch of an organized crime dyna...  \n"
          ]
        }
      ]
    },
    {
      "cell_type": "code",
      "source": [],
      "metadata": {
        "id": "S-HrJKIenFFd"
      },
      "execution_count": 32,
      "outputs": []
    }
  ]
}